{
 "cells": [
  {
   "cell_type": "code",
   "execution_count": 1,
   "metadata": {
    "collapsed": false,
    "deletable": true,
    "editable": true
   },
   "outputs": [],
   "source": [
    "%matplotlib inline\n",
    "import seaborn as sns\n",
    "from birdsonganalysis.distribs import get_distribs\n",
    "from birdsonganalysis import all_song_features\n",
    "from birdsonganalysis import utils\n",
    "from scipy.io import wavfile\n",
    "import numpy as np\n",
    "from scipy.stats import norm\n",
    "import matplotlib.pyplot as plt\n",
    "\n",
    "from collections import defaultdict"
   ]
  },
  {
   "cell_type": "code",
   "execution_count": 2,
   "metadata": {
    "collapsed": false,
    "deletable": true,
    "editable": true
   },
   "outputs": [],
   "source": [
    "sr, samba = wavfile.read('../songs/samba.wav')\n",
    "sr, simple = wavfile.read('../songs/simple.wav')\n",
    "sr, bells = wavfile.read('../songs/bells.wav')\n",
    "sr, flashcam = wavfile.read('../songs/flashcam.wav')\n",
    "sr, lg109 = wavfile.read('../songs/LG109.wav')\n",
    "sr, lg193 = wavfile.read('../songs/LG193.wav')\n",
    "sr, pu7 = wavfile.read('../songs/Pu7.wav')\n",
    "sr, pu40 = wavfile.read('../songs/Pu40.wav')\n",
    "sr, pu72 = wavfile.read('../songs/Pu72.wav')\n",
    "\n",
    "songs = [samba, simple, bells, flashcam, lg109, lg193, pu7, pu40]"
   ]
  },
  {
   "cell_type": "markdown",
   "metadata": {
    "deletable": true,
    "editable": true
   },
   "source": [
    "# Get the medians and the MAD"
   ]
  },
  {
   "cell_type": "code",
   "execution_count": 6,
   "metadata": {
    "collapsed": false,
    "deletable": true,
    "editable": true
   },
   "outputs": [],
   "source": [
    "f = defaultdict(lambda: np.array([], dtype=float))\n",
    "for song in songs:\n",
    "    feats = all_song_features(song, sr, freq_range=256, fft_step=40, fft_size=1024)\n",
    "    # remove the silence\n",
    "    for key in feats:\n",
    "        if (key != 'amplitude'):\n",
    "            feats[key] = feats[key][feats['amplitude'] > np.percentile(feats['amplitude'], 20)]\n",
    "    for fname in feats:\n",
    "        f[fname] = np.concatenate((f[fname], feats[fname]))"
   ]
  },
  {
   "cell_type": "code",
   "execution_count": 7,
   "metadata": {
    "collapsed": true,
    "deletable": true,
    "editable": true
   },
   "outputs": [],
   "source": [
    "def mad(arr):\n",
    "    \"\"\" Median Absolute Deviation: a \"Robust\" version of standard deviation.\n",
    "        Indices variabililty of the sample.\n",
    "        https://en.wikipedia.org/wiki/Median_absolute_deviation \n",
    "    \"\"\"\n",
    "    arr = np.ma.array(arr).compressed() # should be faster to not use masked arrays.\n",
    "    med = np.median(arr)\n",
    "    return np.median(np.abs(arr - med))"
   ]
  },
  {
   "cell_type": "code",
   "execution_count": 11,
   "metadata": {
    "collapsed": false,
    "deletable": true,
    "editable": true,
    "scrolled": true
   },
   "outputs": [
    {
     "name": "stdout",
     "output_type": "stream",
     "text": [
      "med = {   'am': 0.00039675611898210353,\n",
      "    'amplitude': 82.958846230933801,\n",
      "    'entropy': -3.4923664803371448,\n",
      "    'fm': 0.84876612812883656,\n",
      "    'goodness': 0.10728456589138036,\n",
      "    'pitch': 3042.5634765625}\n",
      "\n",
      "mad = {   'am': 3.1437898652827876,\n",
      "    'amplitude': 6.4795818349700909,\n",
      "    'entropy': 0.93547788888390127,\n",
      "    'fm': 0.36812686183136534,\n",
      "    'goodness': 0.026704864227088371,\n",
      "    'pitch': 554.991455078125}\n"
     ]
    }
   ],
   "source": [
    "from pprint import pformat\n",
    "dmed = {}\n",
    "dmad = {}\n",
    "for key in f:\n",
    "    cmed = np.median(f[key])\n",
    "    cmad = mad(f[key])\n",
    "    dmed[key] = cmed\n",
    "    dmad[key] = cmad\n",
    "print('med = {}'.format(pformat(dmed, indent=4)))\n",
    "print()\n",
    "print('mad = {}'.format(pformat(dmad, indent=4)))\n",
    "utils.set_med_mad(dmed, dmad)"
   ]
  },
  {
   "cell_type": "markdown",
   "metadata": {
    "deletable": true,
    "editable": true
   },
   "source": [
    "Let's put these values in utils.py"
   ]
  },
  {
   "cell_type": "markdown",
   "metadata": {
    "deletable": true,
    "editable": true
   },
   "source": [
    "Let's compute all the global errors and locals errors possible between all of these songs against each other (therefore, 10×9/2=45 comparisons)"
   ]
  },
  {
   "cell_type": "code",
   "execution_count": 6,
   "metadata": {
    "collapsed": false,
    "deletable": true,
    "editable": true,
    "scrolled": true
   },
   "outputs": [
    {
     "name": "stdout",
     "output_type": "stream",
     "text": [
      "1/28\n",
      "2/28\n",
      "elapsed: 0:01:26.035748, Total: 0:40:09.000957\n",
      "3/28\n",
      "elapsed: 0:03:21.147661, Total: 0:46:56.067257\n",
      "4/28\n",
      "elapsed: 0:05:04.590624, Total: 0:47:22.845825\n",
      "5/28\n",
      "elapsed: 0:06:38.332192, Total: 0:46:28.325347\n",
      "6/28\n",
      "elapsed: 0:07:59.634694, Total: 0:44:45.954288\n",
      "7/28\n",
      "elapsed: 0:09:33.390314, Total: 0:44:35.821467\n",
      "8/28\n",
      "elapsed: 0:10:45.758354, Total: 0:43:03.033417\n",
      "9/28\n",
      "elapsed: 0:12:18.117683, Total: 0:43:03.411890\n",
      "10/28\n",
      "elapsed: 0:13:41.682468, Total: 0:42:36.345455\n",
      "11/28\n",
      "elapsed: 0:14:56.052822, Total: 0:41:48.947901\n",
      "12/28\n",
      "elapsed: 0:16:01.254775, Total: 0:40:46.830335\n",
      "13/28\n",
      "elapsed: 0:17:16.992791, Total: 0:40:19.649847\n",
      "14/28\n",
      "elapsed: 0:18:14.532255, Total: 0:39:17.454088\n",
      "15/28\n",
      "elapsed: 0:20:05.206621, Total: 0:40:10.413241\n",
      "16/28\n",
      "elapsed: 0:21:46.184306, Total: 0:40:38.210704\n",
      "17/28\n",
      "elapsed: 0:23:17.159887, Total: 0:40:45.029802\n",
      "18/28\n",
      "elapsed: 0:25:00.674334, Total: 0:41:11.698902\n",
      "19/28\n",
      "elapsed: 0:26:18.623040, Total: 0:40:55.635841\n",
      "20/28\n",
      "elapsed: 0:27:49.155048, Total: 0:40:59.807440\n",
      "21/28\n",
      "elapsed: 0:29:09.404832, Total: 0:40:49.166765\n",
      "22/28\n",
      "elapsed: 0:30:43.184694, Total: 0:40:57.579592\n",
      "23/28\n",
      "elapsed: 0:31:53.679452, Total: 0:40:35.592029\n",
      "24/28\n",
      "elapsed: 0:33:04.895295, Total: 0:40:16.394272\n",
      "25/28\n",
      "elapsed: 0:34:27.204821, Total: 0:40:11.738957\n",
      "26/28\n",
      "elapsed: 0:35:30.383183, Total: 0:39:46.029165\n",
      "27/28\n",
      "elapsed: 0:36:44.516109, Total: 0:39:34.094271\n",
      "28/28\n",
      "elapsed: 0:37:41.040720, Total: 0:39:04.782969\n"
     ]
    }
   ],
   "source": [
    "# Takes an hour or more, can be parallelised at some point\n",
    "allG, allL = get_distribs(songs)"
   ]
  },
  {
   "cell_type": "markdown",
   "metadata": {
    "deletable": true,
    "editable": true
   },
   "source": [
    "# G² distribution\n",
    "Let's plot allG"
   ]
  },
  {
   "cell_type": "code",
   "execution_count": 7,
   "metadata": {
    "collapsed": false,
    "deletable": true,
    "editable": true
   },
   "outputs": [
    {
     "data": {
      "text/plain": [
       "<matplotlib.axes._subplots.AxesSubplot at 0x7f17df22df28>"
      ]
     },
     "execution_count": 7,
     "metadata": {},
     "output_type": "execute_result"
    },
    {
     "data": {
      "image/png": "[encoded data removed]",
      "text/plain": [
       "<matplotlib.figure.Figure at 0x7f17cf5a44a8>"
      ]
     },
     "metadata": {},
     "output_type": "display_data"
    }
   ],
   "source": [
    "sns.distplot(allG)"
   ]
  },
  {
   "cell_type": "markdown",
   "metadata": {
    "deletable": true,
    "editable": true
   },
   "source": [
    "Looks lognormal"
   ]
  },
  {
   "cell_type": "code",
   "execution_count": 8,
   "metadata": {
    "collapsed": false,
    "deletable": true,
    "editable": true
   },
   "outputs": [
    {
     "data": {
      "text/plain": [
       "<matplotlib.axes._subplots.AxesSubplot at 0x7f17cd54ccc0>"
      ]
     },
     "execution_count": 8,
     "metadata": {},
     "output_type": "execute_result"
    },
    {
     "data": {
      "image/png": "[encoded data removed]",
      "text/plain": [
       "<matplotlib.figure.Figure at 0x7f17cf5a4400>"
      ]
     },
     "metadata": {},
     "output_type": "display_data"
    }
   ],
   "source": [
    "logallG = np.log(allG+0.01)\n",
    "sns.distplot(logallG)  # Adds 0.01 to avoid -inf"
   ]
  },
  {
   "cell_type": "code",
   "execution_count": 9,
   "metadata": {
    "collapsed": false,
    "deletable": true,
    "editable": true
   },
   "outputs": [
    {
     "data": {
      "text/plain": [
       "2.8309372262945609"
      ]
     },
     "execution_count": 9,
     "metadata": {},
     "output_type": "execute_result"
    }
   ],
   "source": [
    "np.mean(logallG)"
   ]
  },
  {
   "cell_type": "code",
   "execution_count": 10,
   "metadata": {
    "collapsed": false,
    "deletable": true,
    "editable": true
   },
   "outputs": [
    {
     "data": {
      "text/plain": [
       "1.1524324218450099"
      ]
     },
     "execution_count": 10,
     "metadata": {},
     "output_type": "execute_result"
    }
   ],
   "source": [
    "np.std(logallG, ddof=1)"
   ]
  },
  {
   "cell_type": "code",
   "execution_count": 11,
   "metadata": {
    "collapsed": false,
    "deletable": true,
    "editable": true,
    "scrolled": false
   },
   "outputs": [
    {
     "data": {
      "text/plain": [
       "[<matplotlib.lines.Line2D at 0x7f17cd405518>]"
      ]
     },
     "execution_count": 11,
     "metadata": {},
     "output_type": "execute_result"
    },
    {
     "data": {
      "image/png": "[encoded data removed]",
      "text/plain": [
       "<matplotlib.figure.Figure at 0x7f17cd405cc0>"
      ]
     },
     "metadata": {},
     "output_type": "display_data"
    }
   ],
   "source": [
    "sns.distplot(logallG)  # Adds 0.01 to avoid -inf\n",
    "plt.plot(np.linspace(-4, 8, 1000), norm.pdf(np.linspace(-4, 8, 1000), np.mean(logallG), np.std(logallG, ddof=1)))"
   ]
  },
  {
   "cell_type": "markdown",
   "metadata": {
    "deletable": true,
    "editable": true
   },
   "source": [
    "The fit looks decent in log."
   ]
  },
  {
   "cell_type": "code",
   "execution_count": 22,
   "metadata": {
    "collapsed": false,
    "deletable": true,
    "editable": true
   },
   "outputs": [
    {
     "name": "stdout",
     "output_type": "stream",
     "text": [
      "[   2.7893880973591956,\n",
      "    3.2962860661126028,\n",
      "    3.6763561978570047,\n",
      "    3.9903175818085401,\n",
      "    4.2647971429922515,\n",
      "    4.511390597272193,\n",
      "    4.7448091439854174,\n",
      "    4.9668298676608709,\n",
      "    5.1784511373759079,\n",
      "    5.3865297586390692,\n",
      "    5.5900396066874416,\n",
      "    5.7895356873470076,\n",
      "    5.9839121582465173,\n",
      "    6.1718656123535371,\n",
      "    6.355188436571777,\n",
      "    6.5325771355187232,\n",
      "    6.7075597346113218,\n",
      "    6.8806072514128793,\n",
      "    7.0528705915985537,\n",
      "    7.2253815664580694,\n",
      "    7.3994221676828484,\n",
      "    7.5746783497994485,\n",
      "    7.750008451799232,\n",
      "    7.9259129026605786,\n",
      "    8.103695818793252,\n",
      "    8.2824368634698917,\n",
      "    8.4640366157916525,\n",
      "    8.6483413756151499,\n",
      "    8.8351965111336792,\n",
      "    9.024280345378779,\n",
      "    9.2166563694487476,\n",
      "    9.4123031946041635,\n",
      "    9.612083602171003,\n",
      "    9.8169694455270005,\n",
      "    10.027745850777775,\n",
      "    10.245546956989049,\n",
      "    10.469980912767237,\n",
      "    10.69868479822796,\n",
      "    10.933743969041702,\n",
      "    11.176611334407898,\n",
      "    11.429308378097662,\n",
      "    11.691003205680229,\n",
      "    11.961836845061267,\n",
      "    12.242871834376908,\n",
      "    12.533937062721758,\n",
      "    12.836717819804822,\n",
      "    13.150706518971614,\n",
      "    13.478565408906034,\n",
      "    13.819487507745411,\n",
      "    14.170434803895265,\n",
      "    14.529629145766213,\n",
      "    14.895863058201339,\n",
      "    15.271471461930627,\n",
      "    15.665109973931358,\n",
      "    16.073441155698379,\n",
      "    16.49699896439806,\n",
      "    16.935129898623885,\n",
      "    17.384317287140082,\n",
      "    17.851941446996129,\n",
      "    18.328570258362426,\n",
      "    18.822320695176455,\n",
      "    19.333842943405926,\n",
      "    19.866848273946427,\n",
      "    20.420853351028764,\n",
      "    20.983904846323711,\n",
      "    21.557953956492426,\n",
      "    22.146661311694615,\n",
      "    22.761697502739519,\n",
      "    23.385959835687743,\n",
      "    24.020880856831976,\n",
      "    24.66570480393872,\n",
      "    25.321162718556216,\n",
      "    25.98985104516359,\n",
      "    26.674231800901754,\n",
      "    27.369615207439903,\n",
      "    28.082936572810492,\n",
      "    28.841851671964061,\n",
      "    29.651977028216479,\n",
      "    30.517950815313291,\n",
      "    31.454801380892739,\n",
      "    32.441576898504564,\n",
      "    33.483331925390246,\n",
      "    34.601911814177953,\n",
      "    35.823537115048545,\n",
      "    37.202677922221881,\n",
      "    38.896811368115841,\n",
      "    40.974280589399683,\n",
      "    43.440704677102296,\n",
      "    46.404093588109859,\n",
      "    49.624613928106967,\n",
      "    54.991635237001617,\n",
      "    62.972011934528851,\n",
      "    72.678478140971535,\n",
      "    91.289159909911859,\n",
      "    117.36869732319082,\n",
      "    304.54418965031192,\n",
      "    503.84382308117381,\n",
      "    914.95721910297993,\n",
      "    1643.9748972876507,\n",
      "    6301.0969631170328]\n"
     ]
    }
   ],
   "source": [
    "a = []\n",
    "Gsorted = np.sort(allG)\n",
    "for i in range(1, 101):\n",
    "    a.append(np.percentile(Gsorted, i))\n",
    "pprint(a, indent=4)"
   ]
  },
  {
   "cell_type": "markdown",
   "metadata": {
    "deletable": true,
    "editable": true
   },
   "source": [
    "# L² distribution\n",
    "Let's plot allL"
   ]
  },
  {
   "cell_type": "code",
   "execution_count": 13,
   "metadata": {
    "collapsed": false,
    "deletable": true,
    "editable": true
   },
   "outputs": [
    {
     "data": {
      "text/plain": [
       "<matplotlib.axes._subplots.AxesSubplot at 0x7f17cd2c8828>"
      ]
     },
     "execution_count": 13,
     "metadata": {},
     "output_type": "execute_result"
    },
    {
     "data": {
      "image/png": "[encoded data removed]",
      "text/plain": [
       "<matplotlib.figure.Figure at 0x7f17cd1cd320>"
      ]
     },
     "metadata": {},
     "output_type": "display_data"
    }
   ],
   "source": [
    "sns.distplot(allL)"
   ]
  },
  {
   "cell_type": "markdown",
   "metadata": {
    "deletable": true,
    "editable": true
   },
   "source": [
    "Looks lognormal"
   ]
  },
  {
   "cell_type": "code",
   "execution_count": 14,
   "metadata": {
    "collapsed": false,
    "deletable": true,
    "editable": true
   },
   "outputs": [
    {
     "data": {
      "text/plain": [
       "<matplotlib.axes._subplots.AxesSubplot at 0x7f17cd0f3fd0>"
      ]
     },
     "execution_count": 14,
     "metadata": {},
     "output_type": "execute_result"
    },
    {
     "data": {
      "image/png": "[encoded data removed]",
      "text/plain": [
       "<matplotlib.figure.Figure at 0x7f17cd0e3f28>"
      ]
     },
     "metadata": {},
     "output_type": "display_data"
    }
   ],
   "source": [
    "logallL = np.log(allL+0.01)\n",
    "sns.distplot(logallL)  # Adds 0.01 to avoid -inf"
   ]
  },
  {
   "cell_type": "code",
   "execution_count": 15,
   "metadata": {
    "collapsed": false,
    "deletable": true,
    "editable": true
   },
   "outputs": [
    {
     "data": {
      "text/plain": [
       "2.2074295682492866"
      ]
     },
     "execution_count": 15,
     "metadata": {},
     "output_type": "execute_result"
    }
   ],
   "source": [
    "np.mean(logallL)"
   ]
  },
  {
   "cell_type": "code",
   "execution_count": 16,
   "metadata": {
    "collapsed": false,
    "deletable": true,
    "editable": true
   },
   "outputs": [
    {
     "data": {
      "text/plain": [
       "1.4071071777980775"
      ]
     },
     "execution_count": 16,
     "metadata": {},
     "output_type": "execute_result"
    }
   ],
   "source": [
    "np.std(logallL, ddof=1)"
   ]
  },
  {
   "cell_type": "code",
   "execution_count": 17,
   "metadata": {
    "collapsed": false,
    "deletable": true,
    "editable": true,
    "scrolled": false
   },
   "outputs": [
    {
     "data": {
      "text/plain": [
       "[<matplotlib.lines.Line2D at 0x7f17ccf92908>]"
      ]
     },
     "execution_count": 17,
     "metadata": {},
     "output_type": "execute_result"
    },
    {
     "data": {
      "image/png": "[encoded data removed]",
      "text/plain": [
       "<matplotlib.figure.Figure at 0x7f17ccf92940>"
      ]
     },
     "metadata": {},
     "output_type": "display_data"
    }
   ],
   "source": [
    "sns.distplot(logallL)  # Adds 0.001 to avoid -inf\n",
    "imin, imax = np.min(logallL), np.max(logallL)\n",
    "plt.plot(np.linspace(imin, imax, 1000), norm.pdf(np.linspace(imin, imax, 1000), np.mean(logallL), np.std(logallL, ddof=1)))"
   ]
  },
  {
   "cell_type": "markdown",
   "metadata": {
    "deletable": true,
    "editable": true
   },
   "source": [
    "The fit looks decent in log.\n",
    "We will use this value in similarity.py"
   ]
  },
  {
   "cell_type": "code",
   "execution_count": 18,
   "metadata": {
    "collapsed": false,
    "deletable": true,
    "editable": true
   },
   "outputs": [
    {
     "data": {
      "text/plain": [
       "[<matplotlib.lines.Line2D at 0x7f17ccec75c0>]"
      ]
     },
     "execution_count": 18,
     "metadata": {},
     "output_type": "execute_result"
    },
    {
     "data": {
      "image/png": "[encoded data removed]",
      "text/plain": [
       "<matplotlib.figure.Figure at 0x7f17cd0eba90>"
      ]
     },
     "metadata": {},
     "output_type": "display_data"
    }
   ],
   "source": [
    "plt.plot(np.linspace(imin, imax, 1000), norm.cdf(np.linspace(imin, imax, 1000), np.mean(logallL), np.std(logallL, ddof=1)))\n",
    "plt.plot([-4, 10], [0.01, 0.01])"
   ]
  },
  {
   "cell_type": "code",
   "execution_count": 21,
   "metadata": {
    "collapsed": false,
    "deletable": true,
    "editable": true
   },
   "outputs": [
    {
     "name": "stdout",
     "output_type": "stream",
     "text": [
      "[   0.54599694348614791,\n",
      "    0.77518777088616497,\n",
      "    0.96136423585440645,\n",
      "    1.1249268277434958,\n",
      "    1.2752329009248495,\n",
      "    1.4167332298057389,\n",
      "    1.5526729522929845,\n",
      "    1.6837473735354551,\n",
      "    1.8110095687311403,\n",
      "    1.9355849483541776,\n",
      "    2.0583184987682337,\n",
      "    2.1791146864612934,\n",
      "    2.2989471625151658,\n",
      "    2.4172227039628988,\n",
      "    2.5351401729993635,\n",
      "    2.6530292721305426,\n",
      "    2.7708409109493113,\n",
      "    2.8892357679493803,\n",
      "    3.0083625321061414,\n",
      "    3.1279600016283409,\n",
      "    3.2483759298059929,\n",
      "    3.3699565156724272,\n",
      "    3.4921266180322332,\n",
      "    3.6167780243852077,\n",
      "    3.7428257095914272,\n",
      "    3.8714195260439541,\n",
      "    4.0018568622075152,\n",
      "    4.1347538265165245,\n",
      "    4.2698515531310255,\n",
      "    4.4073151932231163,\n",
      "    4.5477757588434793,\n",
      "    4.6916839853347518,\n",
      "    4.8381860075590497,\n",
      "    4.98711459148634,\n",
      "    5.1394086225374362,\n",
      "    5.2954320328914273,\n",
      "    5.4547996706551807,\n",
      "    5.6179430398258798,\n",
      "    5.7854261046540572,\n",
      "    5.9572590855752168,\n",
      "    6.1338377483850959,\n",
      "    6.3146271493746315,\n",
      "    6.5007681318549722,\n",
      "    6.6910277657111523,\n",
      "    6.8874206889547853,\n",
      "    7.0906724064447362,\n",
      "    7.300012395286176,\n",
      "    7.5152004073939471,\n",
      "    7.7371968836548763,\n",
      "    7.967011361930826,\n",
      "    8.2047620136833306,\n",
      "    8.4509495013592719,\n",
      "    8.7062331313114285,\n",
      "    8.9712800604516367,\n",
      "    9.2477747928543685,\n",
      "    9.5336582732598938,\n",
      "    9.8305338505622633,\n",
      "    10.138253445161972,\n",
      "    10.458841002817021,\n",
      "    10.791257653213403,\n",
      "    11.137061676460361,\n",
      "    11.497245696768685,\n",
      "    11.873092491563133,\n",
      "    12.266308444852404,\n",
      "    12.679232386776823,\n",
      "    13.112420921729109,\n",
      "    13.568332330473066,\n",
      "    14.048288500128841,\n",
      "    14.55928387445797,\n",
      "    15.102267078224731,\n",
      "    15.681442884625884,\n",
      "    16.296231155797678,\n",
      "    16.957029976373022,\n",
      "    17.665667577495515,\n",
      "    18.428617399959613,\n",
      "    19.246245413444463,\n",
      "    20.132748950529415,\n",
      "    21.089561569797109,\n",
      "    22.134558706039947,\n",
      "    23.286903419272555,\n",
      "    24.557575982844916,\n",
      "    25.951390666078048,\n",
      "    27.501403546654991,\n",
      "    29.240835631697419,\n",
      "    31.218944050821449,\n",
      "    33.461626331039497,\n",
      "    36.010288612155925,\n",
      "    38.964634502496672,\n",
      "    42.396666388214271,\n",
      "    46.505108884603082,\n",
      "    51.444975606348407,\n",
      "    57.729261190982633,\n",
      "    65.846053951969125,\n",
      "    75.668368184575527,\n",
      "    88.276625408154615,\n",
      "    105.67002167093399,\n",
      "    136.46957950931011,\n",
      "    199.61077017914533,\n",
      "    1462.2110958032815,\n",
      "    100790.20636471517]\n"
     ]
    }
   ],
   "source": [
    "b = []\n",
    "Lsorted = np.sort(allL)\n",
    "for i in range(1, 101):\n",
    "    b.append( np.percentile(Lsorted, i))\n",
    "pprint(b, indent=4)"
   ]
  },
  {
   "cell_type": "code",
   "execution_count": null,
   "metadata": {
    "collapsed": true,
    "deletable": true,
    "editable": true
   },
   "outputs": [],
   "source": []
  }
 ],
 "metadata": {
  "kernelspec": {
   "display_name": "Python 3",
   "language": "python",
   "name": "python3"
  },
  "language_info": {
   "codemirror_mode": {
    "name": "ipython",
    "version": 3
   },
   "file_extension": ".py",
   "mimetype": "text/x-python",
   "name": "python",
   "nbconvert_exporter": "python",
   "pygments_lexer": "ipython3",
   "version": "3.5.2+"
  }
 },
 "nbformat": 4,
 "nbformat_minor": 2
}
